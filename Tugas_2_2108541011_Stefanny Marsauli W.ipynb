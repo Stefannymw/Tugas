{
 "cells": [
  {
   "cell_type": "markdown",
   "id": "3f2ba1b9",
   "metadata": {},
   "source": [
    "# 5.12 List di Phyton"
   ]
  },
  {
   "cell_type": "code",
   "execution_count": 1,
   "id": "f010058b",
   "metadata": {},
   "outputs": [
    {
     "name": "stdout",
     "output_type": "stream",
     "text": [
      "['merah', 'kuning', 'hijau', 'hitam', 'putih']\n"
     ]
    }
   ],
   "source": [
    "warna = ['merah', 'kuning', 'hijau', 'hitam', 'putih']\n",
    "print(warna)"
   ]
  },
  {
   "cell_type": "code",
   "execution_count": 2,
   "id": "755d2fc5",
   "metadata": {},
   "outputs": [
    {
     "name": "stdout",
     "output_type": "stream",
     "text": [
      "kuning\n"
     ]
    }
   ],
   "source": [
    "print(warna[1])"
   ]
  },
  {
   "cell_type": "code",
   "execution_count": 3,
   "id": "df2f23ec",
   "metadata": {},
   "outputs": [
    {
     "name": "stdout",
     "output_type": "stream",
     "text": [
      "putih\n"
     ]
    }
   ],
   "source": [
    "print(warna[4])"
   ]
  },
  {
   "cell_type": "code",
   "execution_count": 4,
   "id": "b3dc3065",
   "metadata": {},
   "outputs": [
    {
     "name": "stdout",
     "output_type": "stream",
     "text": [
      "hitam\n"
     ]
    }
   ],
   "source": [
    "print(warna[-2])"
   ]
  },
  {
   "cell_type": "code",
   "execution_count": 5,
   "id": "eabbbf2d",
   "metadata": {},
   "outputs": [
    {
     "name": "stdout",
     "output_type": "stream",
     "text": [
      "hijau\n"
     ]
    }
   ],
   "source": [
    "print(warna[-3])"
   ]
  },
  {
   "cell_type": "code",
   "execution_count": 6,
   "id": "071f955c",
   "metadata": {},
   "outputs": [
    {
     "name": "stdout",
     "output_type": "stream",
     "text": [
      "['merah', 'kuning', 'hijau', 'hitam', 'pink']\n"
     ]
    }
   ],
   "source": [
    "warna[4] = 'pink'\n",
    "print(warna)"
   ]
  },
  {
   "cell_type": "code",
   "execution_count": 7,
   "id": "6df0f224",
   "metadata": {},
   "outputs": [
    {
     "name": "stdout",
     "output_type": "stream",
     "text": [
      "['merah', 'kuning', 'hijau', 'hitam']\n"
     ]
    }
   ],
   "source": [
    "print(warna[0:4])"
   ]
  },
  {
   "cell_type": "code",
   "execution_count": 8,
   "id": "8966890e",
   "metadata": {},
   "outputs": [
    {
     "name": "stdout",
     "output_type": "stream",
     "text": [
      "['merah', 'kuning', 'hijau', 'hitam', 'pink']\n"
     ]
    }
   ],
   "source": [
    "# tidak merubah list\n",
    "print(warna)"
   ]
  },
  {
   "cell_type": "markdown",
   "id": "c68b66ad",
   "metadata": {},
   "source": [
    "# 5.13 Metoda List"
   ]
  },
  {
   "cell_type": "code",
   "execution_count": 9,
   "id": "a13e0ccd",
   "metadata": {},
   "outputs": [
    {
     "name": "stdout",
     "output_type": "stream",
     "text": [
      "['Stefanny', 'Marsauli', 'Winowod', 'Styles']\n"
     ]
    }
   ],
   "source": [
    "nama = ['Stefanny', 'Marsauli', 'Winowod']\n",
    "nama.append ('Styles')\n",
    "print(nama)"
   ]
  },
  {
   "cell_type": "code",
   "execution_count": 10,
   "id": "7c3b5cd9",
   "metadata": {},
   "outputs": [
    {
     "name": "stdout",
     "output_type": "stream",
     "text": [
      "['Saka', 'Stefanny', 'Marsauli', 'Winowod', 'Styles']\n"
     ]
    }
   ],
   "source": [
    "nama.insert(0, 'Saka')\n",
    "print(nama)"
   ]
  },
  {
   "cell_type": "code",
   "execution_count": 11,
   "id": "ef8531bc",
   "metadata": {},
   "outputs": [
    {
     "name": "stdout",
     "output_type": "stream",
     "text": [
      "['Saka', 'Stefanny', 'Marsauli', 'Styles']\n"
     ]
    }
   ],
   "source": [
    "nama.remove ('Winowod')\n",
    "print(nama)"
   ]
  },
  {
   "cell_type": "code",
   "execution_count": 12,
   "id": "25906827",
   "metadata": {},
   "outputs": [
    {
     "name": "stdout",
     "output_type": "stream",
     "text": [
      "True\n"
     ]
    }
   ],
   "source": [
    "print('Stefanny' in nama)"
   ]
  },
  {
   "cell_type": "code",
   "execution_count": 13,
   "id": "32be2615",
   "metadata": {},
   "outputs": [
    {
     "name": "stdout",
     "output_type": "stream",
     "text": [
      "False\n"
     ]
    }
   ],
   "source": [
    "print('Winowod' in nama )"
   ]
  },
  {
   "cell_type": "code",
   "execution_count": 14,
   "id": "00e712af",
   "metadata": {},
   "outputs": [
    {
     "name": "stdout",
     "output_type": "stream",
     "text": [
      "4\n"
     ]
    }
   ],
   "source": [
    "print(len(nama))"
   ]
  },
  {
   "cell_type": "code",
   "execution_count": 15,
   "id": "c7353c11",
   "metadata": {
    "scrolled": true
   },
   "outputs": [
    {
     "name": "stdout",
     "output_type": "stream",
     "text": [
      "False\n"
     ]
    }
   ],
   "source": [
    "print('styles' in nama)"
   ]
  },
  {
   "cell_type": "markdown",
   "id": "c99b295f",
   "metadata": {},
   "source": [
    "# 5.14 For loop"
   ]
  },
  {
   "cell_type": "code",
   "execution_count": 16,
   "id": "ca70af8a",
   "metadata": {},
   "outputs": [
    {
     "name": "stdout",
     "output_type": "stream",
     "text": [
      "kereta\n",
      "busway\n",
      "angkot\n",
      "mobil\n",
      "motor\n",
      "sepeda\n"
     ]
    }
   ],
   "source": [
    "kendaraan = ['kereta', 'busway', 'angkot', 'mobil', 'motor', 'sepeda']\n",
    "for jenis in kendaraan:\n",
    "    print (jenis)"
   ]
  },
  {
   "cell_type": "code",
   "execution_count": 17,
   "id": "9116a969",
   "metadata": {},
   "outputs": [
    {
     "name": "stdout",
     "output_type": "stream",
     "text": [
      "angkot\n",
      "mobil\n",
      "motor\n",
      "sepeda\n"
     ]
    }
   ],
   "source": [
    "a = 2\n",
    "while a <len(kendaraan):\n",
    "    print(kendaraan[a])\n",
    "    a+=1"
   ]
  },
  {
   "cell_type": "markdown",
   "id": "59b02924",
   "metadata": {},
   "source": [
    "# 5.15 Fungsi range"
   ]
  },
  {
   "cell_type": "code",
   "execution_count": 18,
   "id": "337f362a",
   "metadata": {},
   "outputs": [
    {
     "name": "stdout",
     "output_type": "stream",
     "text": [
      "range(0, 17)\n"
     ]
    }
   ],
   "source": [
    "angka = range(17)\n",
    "print(angka)"
   ]
  },
  {
   "cell_type": "code",
   "execution_count": 19,
   "id": "b6f82b26",
   "metadata": {},
   "outputs": [
    {
     "name": "stdout",
     "output_type": "stream",
     "text": [
      "0\n",
      "1\n",
      "2\n",
      "3\n",
      "4\n",
      "5\n",
      "6\n",
      "7\n",
      "8\n",
      "9\n",
      "10\n",
      "11\n",
      "12\n",
      "13\n",
      "14\n",
      "15\n",
      "16\n"
     ]
    }
   ],
   "source": [
    "for isi in angka:\n",
    "    print(isi)"
   ]
  },
  {
   "cell_type": "code",
   "execution_count": 20,
   "id": "61f129c7",
   "metadata": {},
   "outputs": [
    {
     "name": "stdout",
     "output_type": "stream",
     "text": [
      "13\n",
      "14\n",
      "15\n",
      "16\n",
      "17\n",
      "18\n",
      "19\n",
      "20\n",
      "21\n"
     ]
    }
   ],
   "source": [
    "for isi in range (13,22):\n",
    "    print(isi)"
   ]
  },
  {
   "cell_type": "code",
   "execution_count": 21,
   "id": "64011bca",
   "metadata": {},
   "outputs": [
    {
     "name": "stdout",
     "output_type": "stream",
     "text": [
      "1\n",
      "4\n",
      "7\n",
      "10\n",
      "13\n",
      "16\n",
      "19\n"
     ]
    }
   ],
   "source": [
    "for isi in range (1, 20, 3):\n",
    "    print(isi)\n"
   ]
  },
  {
   "cell_type": "code",
   "execution_count": 22,
   "id": "c2d6cd24",
   "metadata": {},
   "outputs": [
    {
     "name": "stdout",
     "output_type": "stream",
     "text": [
      "9\n"
     ]
    }
   ],
   "source": [
    "data = [1,9,5,6,2,8,9,4,7,6,6,7,8]\n",
    "terbesar = data [0]\n",
    "for x in range (len(data)):\n",
    "    if data [x]>terbesar :\n",
    "        terbesar = data [x]\n",
    "print (terbesar)"
   ]
  },
  {
   "cell_type": "code",
   "execution_count": 23,
   "id": "564b1686",
   "metadata": {},
   "outputs": [
    {
     "name": "stdout",
     "output_type": "stream",
     "text": [
      "9\n"
     ]
    }
   ],
   "source": [
    "data = [1,9,5,6,2,8,9,4,7,6,6,7,8]\n",
    "terbesar = data [0]\n",
    "for angka in data:\n",
    "    if angka > terbesar :\n",
    "        terbesar = angka\n",
    "print (terbesar)"
   ]
  },
  {
   "cell_type": "code",
   "execution_count": 24,
   "id": "e7375b39",
   "metadata": {},
   "outputs": [
    {
     "name": "stdout",
     "output_type": "stream",
     "text": [
      "1\n"
     ]
    }
   ],
   "source": [
    "data = [1,9,5,6,2,8,9,4,7,6,6,7,8]\n",
    "terkecil = data [0]\n",
    "for angka in data:\n",
    "    if angka < terkecil :\n",
    "        terkecil = angka\n",
    "print (terkecil)"
   ]
  },
  {
   "cell_type": "code",
   "execution_count": 25,
   "id": "177eb90f",
   "metadata": {},
   "outputs": [
    {
     "name": "stdout",
     "output_type": "stream",
     "text": [
      "['a', 'b', 'c', 'd', 'e', 'f', 'g', 'h', 'i']\n"
     ]
    }
   ],
   "source": [
    "huruf = ['a','b','c','d','e','f','a','c','d','g','h','i','b','f']\n",
    "huruf_unik = []\n",
    "for anggota in huruf :\n",
    "    if anggota not in huruf_unik :\n",
    "        huruf_unik.append(anggota)\n",
    "print(huruf_unik)        "
   ]
  },
  {
   "cell_type": "code",
   "execution_count": 26,
   "id": "aec6f927",
   "metadata": {},
   "outputs": [
    {
     "name": "stdout",
     "output_type": "stream",
     "text": [
      "[0, 1, 2, 3, 4, 5, 7, 9, 6, 8]\n"
     ]
    }
   ],
   "source": [
    "angka = [0,1,2,3,4,2,5,1,7,0,9,5,6,2,8,3,3,5,7,9,2]\n",
    "angka_unik = []\n",
    "for anggota in angka :\n",
    "    if anggota not in angka_unik :\n",
    "        angka_unik.append(anggota)\n",
    "print(angka_unik)        "
   ]
  },
  {
   "cell_type": "markdown",
   "id": "a4e00d50",
   "metadata": {},
   "source": [
    "# 5.16 List 2 Dimensi\n"
   ]
  },
  {
   "cell_type": "code",
   "execution_count": 27,
   "id": "eacaf9d7",
   "metadata": {},
   "outputs": [
    {
     "name": "stdout",
     "output_type": "stream",
     "text": [
      "[[3, 2, 1, 4], [5, 3, 6, 0], [10, 7, 12, 3], [13, 15, 11, 16]]\n"
     ]
    }
   ],
   "source": [
    "matrik = [\n",
    "    [3,2,1,4],\n",
    "    [5,3,6,0],\n",
    "    [10,7,12,3],\n",
    "    [13,15,11,16],\n",
    "]\n",
    "print(matrik)"
   ]
  },
  {
   "cell_type": "code",
   "execution_count": 28,
   "id": "8ad90b27",
   "metadata": {},
   "outputs": [
    {
     "data": {
      "text/plain": [
       "[5, 3, 6, 0]"
      ]
     },
     "execution_count": 28,
     "metadata": {},
     "output_type": "execute_result"
    }
   ],
   "source": [
    "matrik[1]"
   ]
  },
  {
   "cell_type": "code",
   "execution_count": 29,
   "id": "9d3a049b",
   "metadata": {},
   "outputs": [
    {
     "data": {
      "text/plain": [
       "[13, 15, 11, 16]"
      ]
     },
     "execution_count": 29,
     "metadata": {},
     "output_type": "execute_result"
    }
   ],
   "source": [
    "matrik[3]"
   ]
  },
  {
   "cell_type": "code",
   "execution_count": 30,
   "id": "42a8280c",
   "metadata": {},
   "outputs": [
    {
     "data": {
      "text/plain": [
       "2"
      ]
     },
     "execution_count": 30,
     "metadata": {},
     "output_type": "execute_result"
    }
   ],
   "source": [
    "matrik[0][1]"
   ]
  },
  {
   "cell_type": "code",
   "execution_count": 31,
   "id": "7d6b1f14",
   "metadata": {},
   "outputs": [
    {
     "data": {
      "text/plain": [
       "0"
      ]
     },
     "execution_count": 31,
     "metadata": {},
     "output_type": "execute_result"
    }
   ],
   "source": [
    "matrik[1][3]"
   ]
  },
  {
   "cell_type": "code",
   "execution_count": 32,
   "id": "e81dba51",
   "metadata": {},
   "outputs": [
    {
     "name": "stdout",
     "output_type": "stream",
     "text": [
      "25\n"
     ]
    }
   ],
   "source": [
    "matrik[0][3]=25\n",
    "print(matrik[0][3])"
   ]
  },
  {
   "cell_type": "code",
   "execution_count": 33,
   "id": "25cd137e",
   "metadata": {},
   "outputs": [
    {
     "data": {
      "text/plain": [
       "[[3, 2, 1, 25], [5, 3, 6, 0], [10, 7, 12, 3], [13, 15, 11, 16]]"
      ]
     },
     "execution_count": 33,
     "metadata": {},
     "output_type": "execute_result"
    }
   ],
   "source": [
    "matrik"
   ]
  },
  {
   "cell_type": "code",
   "execution_count": 34,
   "id": "1dbd8f53",
   "metadata": {},
   "outputs": [
    {
     "name": "stdout",
     "output_type": "stream",
     "text": [
      "[3, 2, 1, 25]\n",
      "3\n",
      "2\n",
      "1\n",
      "25\n",
      "[5, 3, 6, 0]\n",
      "5\n",
      "3\n",
      "6\n",
      "0\n",
      "[10, 7, 12, 3]\n",
      "10\n",
      "7\n",
      "12\n",
      "3\n",
      "[13, 15, 11, 16]\n",
      "13\n",
      "15\n",
      "11\n",
      "16\n"
     ]
    }
   ],
   "source": [
    "for baris in matrik:\n",
    "    print(baris)\n",
    "    for kolom in baris:\n",
    "        print(kolom)"
   ]
  },
  {
   "cell_type": "code",
   "execution_count": 35,
   "id": "2b152537",
   "metadata": {},
   "outputs": [
    {
     "name": "stdout",
     "output_type": "stream",
     "text": [
      "[3, 2, 1, 25]\n",
      "3\n",
      "2\n",
      "1\n",
      "25\n",
      "[5, 3, 6, 0]\n",
      "5\n",
      "3\n",
      "6\n",
      "0\n",
      "[10, 7, 12, 3]\n",
      "10\n",
      "7\n",
      "12\n",
      "3\n",
      "[13, 15, 11, 16]\n",
      "13\n",
      "15\n",
      "11\n",
      "16\n"
     ]
    }
   ],
   "source": [
    "for kolom in matrik:\n",
    "    print(kolom)\n",
    "    for baris in kolom:\n",
    "        print(baris)"
   ]
  },
  {
   "cell_type": "markdown",
   "id": "ba4c0013",
   "metadata": {},
   "source": [
    "# 5.17 Tuples"
   ]
  },
  {
   "cell_type": "code",
   "execution_count": 36,
   "id": "a2f57029",
   "metadata": {},
   "outputs": [],
   "source": [
    "angka = (1,3,5,3,7,1,9,11)"
   ]
  },
  {
   "cell_type": "code",
   "execution_count": 37,
   "id": "f4503518",
   "metadata": {},
   "outputs": [
    {
     "name": "stdout",
     "output_type": "stream",
     "text": [
      "5\n"
     ]
    }
   ],
   "source": [
    "print(angka[2])"
   ]
  },
  {
   "cell_type": "code",
   "execution_count": 38,
   "id": "0f05ba51",
   "metadata": {},
   "outputs": [
    {
     "name": "stdout",
     "output_type": "stream",
     "text": [
      "(3, 5, 3, 7)\n"
     ]
    }
   ],
   "source": [
    "print(angka[1:5])"
   ]
  },
  {
   "cell_type": "code",
   "execution_count": 39,
   "id": "7ba3cd47",
   "metadata": {},
   "outputs": [
    {
     "name": "stdout",
     "output_type": "stream",
     "text": [
      "3\n",
      "5\n",
      "3\n",
      "7\n"
     ]
    }
   ],
   "source": [
    "for isi in angka [1:5]:\n",
    "    print(isi)"
   ]
  },
  {
   "cell_type": "code",
   "execution_count": 40,
   "id": "862d5130",
   "metadata": {},
   "outputs": [
    {
     "ename": "TypeError",
     "evalue": "'tuple' object does not support item assignment",
     "output_type": "error",
     "traceback": [
      "\u001b[1;31m---------------------------------------------------------------------------\u001b[0m",
      "\u001b[1;31mTypeError\u001b[0m                                 Traceback (most recent call last)",
      "\u001b[1;32mC:\\Users\\WIN10~1\\AppData\\Local\\Temp/ipykernel_7816/49327054.py\u001b[0m in \u001b[0;36m<module>\u001b[1;34m\u001b[0m\n\u001b[1;32m----> 1\u001b[1;33m \u001b[0mangka\u001b[0m\u001b[1;33m[\u001b[0m\u001b[1;36m3\u001b[0m\u001b[1;33m]\u001b[0m \u001b[1;33m=\u001b[0m \u001b[1;36m9\u001b[0m\u001b[1;33m\u001b[0m\u001b[1;33m\u001b[0m\u001b[0m\n\u001b[0m",
      "\u001b[1;31mTypeError\u001b[0m: 'tuple' object does not support item assignment"
     ]
    }
   ],
   "source": [
    "angka[3] = 9\n",
    "# tidak bisa dirun karena bukan list"
   ]
  },
  {
   "cell_type": "code",
   "execution_count": 41,
   "id": "acc9b3c8",
   "metadata": {},
   "outputs": [
    {
     "ename": "AttributeError",
     "evalue": "'tuple' object has no attribute 'append'",
     "output_type": "error",
     "traceback": [
      "\u001b[1;31m---------------------------------------------------------------------------\u001b[0m",
      "\u001b[1;31mAttributeError\u001b[0m                            Traceback (most recent call last)",
      "\u001b[1;32mC:\\Users\\WIN10~1\\AppData\\Local\\Temp/ipykernel_7816/2876960537.py\u001b[0m in \u001b[0;36m<module>\u001b[1;34m\u001b[0m\n\u001b[1;32m----> 1\u001b[1;33m \u001b[0mangka\u001b[0m\u001b[1;33m.\u001b[0m\u001b[0mappend\u001b[0m\u001b[1;33m(\u001b[0m\u001b[1;36m11\u001b[0m\u001b[1;33m)\u001b[0m\u001b[1;33m\u001b[0m\u001b[1;33m\u001b[0m\u001b[0m\n\u001b[0m",
      "\u001b[1;31mAttributeError\u001b[0m: 'tuple' object has no attribute 'append'"
     ]
    }
   ],
   "source": [
    "angka.append(11)"
   ]
  },
  {
   "cell_type": "code",
   "execution_count": null,
   "id": "f24c2a92",
   "metadata": {},
   "outputs": [],
   "source": [
    "angka.remove(7)"
   ]
  },
  {
   "cell_type": "code",
   "execution_count": null,
   "id": "28e14625",
   "metadata": {},
   "outputs": [],
   "source": [
    "angka.count(11)"
   ]
  },
  {
   "cell_type": "code",
   "execution_count": null,
   "id": "e9c2d4b9",
   "metadata": {},
   "outputs": [],
   "source": [
    "angka.index(5)"
   ]
  },
  {
   "cell_type": "code",
   "execution_count": 45,
   "id": "a047447e",
   "metadata": {},
   "outputs": [
    {
     "name": "stdout",
     "output_type": "stream",
     "text": [
      "('meja', 'kursi', 'kipas', 'pintu', 'hp')\n"
     ]
    }
   ],
   "source": [
    "objek = ('meja','kursi','kipas','pintu','hp')\n",
    "print (objek)"
   ]
  },
  {
   "cell_type": "code",
   "execution_count": 50,
   "id": "367e80c9",
   "metadata": {},
   "outputs": [
    {
     "name": "stdout",
     "output_type": "stream",
     "text": [
      "('kursi', 'kipas')\n"
     ]
    }
   ],
   "source": [
    "print(objek[1:3])"
   ]
  },
  {
   "cell_type": "code",
   "execution_count": 52,
   "id": "fc370587",
   "metadata": {},
   "outputs": [
    {
     "name": "stdout",
     "output_type": "stream",
     "text": [
      "kursi\n",
      "kipas\n"
     ]
    }
   ],
   "source": [
    "for benda in objek[1:3]:\n",
    "    print(benda)"
   ]
  },
  {
   "cell_type": "markdown",
   "id": "d56ac032",
   "metadata": {},
   "source": [
    "# 5.18 Dictionaries\n"
   ]
  },
  {
   "cell_type": "code",
   "execution_count": 53,
   "id": "167ffb31",
   "metadata": {},
   "outputs": [],
   "source": [
    "data_orang = {\n",
    "    \"nama\" : 'Fina Panduwinata',\n",
    "    \"umur\" : 62,\n",
    "    \"apakah_singel\" : False\n",
    "}"
   ]
  },
  {
   "cell_type": "code",
   "execution_count": 54,
   "id": "ed296bb1",
   "metadata": {},
   "outputs": [
    {
     "name": "stdout",
     "output_type": "stream",
     "text": [
      "Fina Panduwinata\n"
     ]
    }
   ],
   "source": [
    "print(data_orang[\"nama\"])"
   ]
  },
  {
   "cell_type": "code",
   "execution_count": 55,
   "id": "2eab1f7d",
   "metadata": {},
   "outputs": [
    {
     "name": "stdout",
     "output_type": "stream",
     "text": [
      "Fina Panduwinata\n"
     ]
    }
   ],
   "source": [
    "print(data_orang.get(\"nama\"))"
   ]
  },
  {
   "cell_type": "code",
   "execution_count": 56,
   "id": "0557fc4d",
   "metadata": {},
   "outputs": [
    {
     "name": "stdout",
     "output_type": "stream",
     "text": [
      "None\n"
     ]
    }
   ],
   "source": [
    "print(data_orang.get(\"Nama\"))"
   ]
  },
  {
   "cell_type": "code",
   "execution_count": 57,
   "id": "d58f49f7",
   "metadata": {},
   "outputs": [
    {
     "name": "stdout",
     "output_type": "stream",
     "text": [
      "None\n"
     ]
    }
   ],
   "source": [
    "print(data_orang.get(\"tanggal_lahir\"))"
   ]
  },
  {
   "cell_type": "code",
   "execution_count": 58,
   "id": "e972fb5a",
   "metadata": {},
   "outputs": [
    {
     "name": "stdout",
     "output_type": "stream",
     "text": [
      "06-08-1959\n"
     ]
    }
   ],
   "source": [
    "print(data_orang.get(\"tanggal_lahir\", '06-08-1959'))"
   ]
  },
  {
   "cell_type": "code",
   "execution_count": 59,
   "id": "8cc24099",
   "metadata": {},
   "outputs": [
    {
     "name": "stdout",
     "output_type": "stream",
     "text": [
      "{'nama': 'Fina Panduwinata', 'umur': 62, 'apakah_singel': False}\n"
     ]
    }
   ],
   "source": [
    "print(data_orang)"
   ]
  },
  {
   "cell_type": "code",
   "execution_count": 60,
   "id": "4f18583b",
   "metadata": {},
   "outputs": [],
   "source": [
    "data_orang['HP'] = '081311532190'"
   ]
  },
  {
   "cell_type": "code",
   "execution_count": 61,
   "id": "dcc1078e",
   "metadata": {},
   "outputs": [
    {
     "name": "stdout",
     "output_type": "stream",
     "text": [
      "081311532190\n"
     ]
    }
   ],
   "source": [
    "print(data_orang['HP'])"
   ]
  },
  {
   "cell_type": "code",
   "execution_count": 62,
   "id": "28f73623",
   "metadata": {},
   "outputs": [
    {
     "name": "stdout",
     "output_type": "stream",
     "text": [
      "{'nama': 'Fina Panduwinata', 'umur': 62, 'apakah_singel': False, 'HP': '081311532190'}\n"
     ]
    }
   ],
   "source": [
    "print(data_orang)"
   ]
  },
  {
   "cell_type": "code",
   "execution_count": 63,
   "id": "599e12ab",
   "metadata": {},
   "outputs": [],
   "source": [
    "angka = {\n",
    "    '0' : 'nol',\n",
    "    '1' : 'satu',\n",
    "    '2' : 'dua',\n",
    "    '3' : 'tiga',\n",
    "    '4' : 'empat',\n",
    "    '5' : 'lima',\n",
    "    '6' : 'enam',\n",
    "    '7' : 'tujuh',\n",
    "    '8' : 'delapan',\n",
    "    '9' : 'sembilan',\n",
    "}"
   ]
  },
  {
   "cell_type": "code",
   "execution_count": 64,
   "id": "b6b6f265",
   "metadata": {},
   "outputs": [
    {
     "name": "stdout",
     "output_type": "stream",
     "text": [
      "Berapakah nomor smartphone anda? 088134236654\n",
      "nol delapan delapan satu tiga empat dua tiga enam enam lima empat \n"
     ]
    }
   ],
   "source": [
    "nomor_smartphone =input ('Berapakah nomor smartphone anda? ')\n",
    "nomor_angka = \"\"\n",
    "for isi in nomor_smartphone :\n",
    "    nomor_angka +=angka.get(isi) + \" \"\n",
    "print(nomor_angka)"
   ]
  },
  {
   "cell_type": "code",
   "execution_count": 65,
   "id": "5fe3c1fb",
   "metadata": {},
   "outputs": [],
   "source": [
    "informasi = {\n",
    "    \"nama\" : 'Stefanny Marsauli Winowod',\n",
    "    \"umur\" : 19,\n",
    "    \"ukuran_sepatu\" : 39,\n",
    "    \"apakah_singel\" : False\n",
    "}"
   ]
  },
  {
   "cell_type": "code",
   "execution_count": 66,
   "id": "c333f99c",
   "metadata": {},
   "outputs": [
    {
     "name": "stdout",
     "output_type": "stream",
     "text": [
      "{'nama': 'Stefanny Marsauli Winowod', 'umur': 19, 'ukuran_sepatu': 39, 'apakah_singel': False}\n"
     ]
    }
   ],
   "source": [
    "print(informasi)"
   ]
  },
  {
   "cell_type": "code",
   "execution_count": 67,
   "id": "a370007b",
   "metadata": {},
   "outputs": [
    {
     "name": "stdout",
     "output_type": "stream",
     "text": [
      "Stefanny Marsauli Winowod\n"
     ]
    }
   ],
   "source": [
    "print(informasi[\"nama\"])"
   ]
  },
  {
   "cell_type": "code",
   "execution_count": 68,
   "id": "4d782a0b",
   "metadata": {},
   "outputs": [
    {
     "name": "stdout",
     "output_type": "stream",
     "text": [
      "39\n"
     ]
    }
   ],
   "source": [
    "print(informasi[\"ukuran_sepatu\"])"
   ]
  },
  {
   "cell_type": "code",
   "execution_count": 69,
   "id": "dafb8c1b",
   "metadata": {},
   "outputs": [
    {
     "name": "stdout",
     "output_type": "stream",
     "text": [
      "16 Maret 2003\n"
     ]
    }
   ],
   "source": [
    "print(data_orang.get(\"tanggal_lahir\", '16 Maret 2003'))"
   ]
  },
  {
   "cell_type": "code",
   "execution_count": 70,
   "id": "de8b9bd9",
   "metadata": {},
   "outputs": [
    {
     "name": "stdout",
     "output_type": "stream",
     "text": [
      "berenang\n"
     ]
    }
   ],
   "source": [
    "informasi['hobi'] = 'berenang'\n",
    "print(informasi['hobi'])"
   ]
  },
  {
   "cell_type": "code",
   "execution_count": 71,
   "id": "020d4531",
   "metadata": {},
   "outputs": [
    {
     "name": "stdout",
     "output_type": "stream",
     "text": [
      "{'nama': 'Stefanny Marsauli Winowod', 'umur': 19, 'ukuran_sepatu': 39, 'apakah_singel': False, 'hobi': 'berenang'}\n"
     ]
    }
   ],
   "source": [
    "print(informasi)"
   ]
  },
  {
   "cell_type": "code",
   "execution_count": 72,
   "id": "68bd1afb",
   "metadata": {},
   "outputs": [],
   "source": [
    "huruf = {\n",
    "    'a' : 'a',\n",
    "    'b' : 'be',\n",
    "    'c' : 'ce',\n",
    "    'd' : 'de',\n",
    "    'e' : 'e',\n",
    "    'f' : 'ef',\n",
    "    'g' : 'ge',\n",
    "    'h' : 'ha',\n",
    "    'i' : 'i',\n",
    "    'j' : 'je',\n",
    "    'k' : 'ka',\n",
    "    'l' : 'el',\n",
    "    'm' : 'em',\n",
    "    'n' : 'en',\n",
    "    'o' : 'o',\n",
    "    'p' : 'pe',\n",
    "    'q' : 'qi',\n",
    "    'r' : 'er',\n",
    "    's' : 'es',\n",
    "    't' : 'te',\n",
    "    'u' : 'u',\n",
    "    'v' : 've',\n",
    "    'w' : 'we',\n",
    "    'x' : 'ex',\n",
    "    'y' : 'ye',\n",
    "    'z' : 'zet',\n",
    "}"
   ]
  },
  {
   "cell_type": "code",
   "execution_count": 73,
   "id": "52591997",
   "metadata": {},
   "outputs": [
    {
     "name": "stdout",
     "output_type": "stream",
     "text": [
      "Apa hobi anda?? nonton\n",
      " en o en te o en \n"
     ]
    }
   ],
   "source": [
    "hobi =input ('Apa hobi anda?? ')\n",
    "hobi_huruf = \" \"\n",
    "for isi in hobi :\n",
    "    hobi_huruf +=huruf.get(isi) + \" \" \n",
    "print(hobi_huruf)    "
   ]
  },
  {
   "cell_type": "markdown",
   "id": "137bc224",
   "metadata": {},
   "source": [
    "# 5.19 Fungsi dalam Python\n"
   ]
  },
  {
   "cell_type": "code",
   "execution_count": 74,
   "id": "0b985bae",
   "metadata": {},
   "outputs": [],
   "source": [
    "def full_name(first_name, last_name):\n",
    "    print(f\"Nama lengkapnya adalah {first_name} {last_name}\")"
   ]
  },
  {
   "cell_type": "code",
   "execution_count": 75,
   "id": "c1f04aa8",
   "metadata": {},
   "outputs": [
    {
     "name": "stdout",
     "output_type": "stream",
     "text": [
      "Nama depan anda adalah Stefanny\n",
      "Nama belakang anda adalah Winowod\n",
      "('Stefanny', 'Winowod')\n"
     ]
    }
   ],
   "source": [
    "first_name = input(\"Nama depan anda adalah \")\n",
    "last_name = input(\"Nama belakang anda adalah \")\n",
    "full_name = (first_name, last_name)\n",
    "print (full_name)"
   ]
  },
  {
   "cell_type": "markdown",
   "id": "a145ce97",
   "metadata": {},
   "source": [
    "# 5.19.1 Tugas Fungsi pada Python"
   ]
  },
  {
   "cell_type": "code",
   "execution_count": 76,
   "id": "894b7a83",
   "metadata": {},
   "outputs": [],
   "source": [
    "def waktu_sampai (jarak, kecepatan) :\n",
    "    waktu = jarak/kecepatan\n",
    "    print(waktu)"
   ]
  },
  {
   "cell_type": "code",
   "execution_count": 77,
   "id": "ff46275d",
   "metadata": {},
   "outputs": [],
   "source": [
    "def waktu_tempuh (jarak, kecepatan) :\n",
    "    waktu = jarak/kecepatan\n",
    "    return waktu"
   ]
  },
  {
   "cell_type": "code",
   "execution_count": 78,
   "id": "12dd1568",
   "metadata": {},
   "outputs": [
    {
     "name": "stdout",
     "output_type": "stream",
     "text": [
      "3.0\n"
     ]
    }
   ],
   "source": [
    "waktu_sampai (90,30)"
   ]
  },
  {
   "cell_type": "code",
   "execution_count": 79,
   "id": "8699884e",
   "metadata": {},
   "outputs": [
    {
     "data": {
      "text/plain": [
       "1.5"
      ]
     },
     "execution_count": 79,
     "metadata": {},
     "output_type": "execute_result"
    }
   ],
   "source": [
    "waktu_tempuh (90,60)"
   ]
  },
  {
   "cell_type": "code",
   "execution_count": 80,
   "id": "edb6b685",
   "metadata": {},
   "outputs": [
    {
     "name": "stdout",
     "output_type": "stream",
     "text": [
      "3.0\n",
      "None\n"
     ]
    }
   ],
   "source": [
    "a = waktu_sampai (90,30)\n",
    "print (a)"
   ]
  },
  {
   "cell_type": "code",
   "execution_count": 81,
   "id": "d55eab32",
   "metadata": {},
   "outputs": [
    {
     "name": "stdout",
     "output_type": "stream",
     "text": [
      "1.5\n"
     ]
    }
   ],
   "source": [
    "b = waktu_tempuh (90,60)\n",
    "print (b)"
   ]
  },
  {
   "cell_type": "code",
   "execution_count": 82,
   "id": "2b0f1f2e",
   "metadata": {},
   "outputs": [],
   "source": [
    "import numpy as np"
   ]
  },
  {
   "cell_type": "code",
   "execution_count": 93,
   "id": "438473f9",
   "metadata": {},
   "outputs": [],
   "source": [
    "def luas_persegi(sisi):\n",
    "    luas = sisi*sisi\n",
    "    return luas\n",
    "def luas_lingkaran (jari_jari):\n",
    "    luas = np.pi*(jari_jari**2)\n",
    "    return luas\n",
    "def luas_segitiga (alas,tinggi):\n",
    "    luas = (1/2)*alas*tinggi\n",
    "    return luas\n",
    "def luas_persegi_panjang (panjang,lebar):\n",
    "    luas = panjang*lebar\n",
    "    return luas"
   ]
  },
  {
   "cell_type": "code",
   "execution_count": 95,
   "id": "435e3c0e",
   "metadata": {},
   "outputs": [
    {
     "name": "stdout",
     "output_type": "stream",
     "text": [
      "Tulis jenis bidangnya lingkaran\n",
      "berapa jari-jarinya? 10\n",
      "luas lingkaran adalah 314.1592653589793\n"
     ]
    }
   ],
   "source": [
    "jenis_bidang = input ('Tulis jenis bidangnya ')\n",
    "if jenis_bidang.upper()== 'SEGITIGA':\n",
    "    alas =float(input('berapa panjang alasnya? '))\n",
    "    tinggi = float(input ('berapa tingginya? '))\n",
    "    luas = luas_segitiga (alas,tinggi)\n",
    "    print (f\"luas{jenis_bidang} adalah {luas}\")\n",
    "elif jenis_bidang.upper()== 'LINGKARAN':\n",
    "    jari_jari = float(input('berapa jari-jarinya? '))\n",
    "    luas = luas_lingkaran(jari_jari)\n",
    "    print(f\"luas {jenis_bidang} adalah {luas}\")\n",
    "elif jenis_bidang.upper()== 'PERSEGI_PANJANG':\n",
    "    panjang = float(input('berapa panjangnya? '))\n",
    "    lebar = float(input('berapa lebarnya? '))\n",
    "    luas = luas_persegi_panjang (panjang,lebar)\n",
    "    print(f\"luas{jenis_bidang} adalah {luas}\")\n",
    "elif jenis_bidang.upper()== 'PERSEGI':\n",
    "    sisi = float(input('berapakah panjang sisinya? '))\n",
    "    luas =luas_persegi(sisi)\n",
    "    print(f\"luas{jenis_bidang} adalah {luas}\")\n",
    "else:\n",
    "    print (f\"Maaf bidang {jenis_bidang} yang anda masukkan tidak ada.\")\n",
    "    print (\"Pilihannya hanya ada SEGITIGA, LINGKARAN, PERSEGI PANJANG, dan PERSEGI.\")\n",
    "    print ('Silahkan coba lagi, terima kasih.')"
   ]
  }
 ],
 "metadata": {
  "kernelspec": {
   "display_name": "Python 3 (ipykernel)",
   "language": "python",
   "name": "python3"
  },
  "language_info": {
   "codemirror_mode": {
    "name": "ipython",
    "version": 3
   },
   "file_extension": ".py",
   "mimetype": "text/x-python",
   "name": "python",
   "nbconvert_exporter": "python",
   "pygments_lexer": "ipython3",
   "version": "3.9.7"
  }
 },
 "nbformat": 4,
 "nbformat_minor": 5
}
