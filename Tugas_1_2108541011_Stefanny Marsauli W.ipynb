{
 "cells": [
  {
   "cell_type": "code",
   "execution_count": 1,
   "id": "612959d6",
   "metadata": {},
   "outputs": [
    {
     "name": "stdout",
     "output_type": "stream",
     "text": [
      "Ini kelas Algoritma!\n"
     ]
    }
   ],
   "source": [
    "print ('Ini kelas Algoritma!')"
   ]
  },
  {
   "cell_type": "code",
   "execution_count": 2,
   "id": "f75ae13b",
   "metadata": {},
   "outputs": [
    {
     "name": "stdout",
     "output_type": "stream",
     "text": [
      "Ini kelas Algoritma!\n"
     ]
    }
   ],
   "source": [
    "print (\"Ini kelas Algoritma!\")"
   ]
  },
  {
   "cell_type": "code",
   "execution_count": 3,
   "id": "eda698f3",
   "metadata": {},
   "outputs": [
    {
     "name": "stdout",
     "output_type": "stream",
     "text": [
      "I dont understand what are you saying.\n"
     ]
    }
   ],
   "source": [
    "print (\"I dont understand what are you saying.\")"
   ]
  },
  {
   "cell_type": "code",
   "execution_count": 88,
   "id": "db7a05b8",
   "metadata": {},
   "outputs": [
    {
     "ename": "SyntaxError",
     "evalue": "invalid syntax (Temp/ipykernel_7300/376616416.py, line 1)",
     "output_type": "error",
     "traceback": [
      "\u001b[1;36m  File \u001b[1;32m\"C:\\Users\\WIN10~1\\AppData\\Local\\Temp/ipykernel_7300/376616416.py\"\u001b[1;36m, line \u001b[1;32m1\u001b[0m\n\u001b[1;33m    print ('I don't understand what are you saying.')\u001b[0m\n\u001b[1;37m                  ^\u001b[0m\n\u001b[1;31mSyntaxError\u001b[0m\u001b[1;31m:\u001b[0m invalid syntax\n"
     ]
    }
   ],
   "source": [
    "print ('I don't understand what are you saying.')"
   ]
  },
  {
   "cell_type": "code",
   "execution_count": 5,
   "id": "20624099",
   "metadata": {},
   "outputs": [
    {
     "name": "stdout",
     "output_type": "stream",
     "text": [
      "He is such a \"GENIUS\"\n"
     ]
    }
   ],
   "source": [
    "print ('He is such a \"GENIUS\"')"
   ]
  },
  {
   "cell_type": "code",
   "execution_count": 89,
   "id": "c791ccab",
   "metadata": {},
   "outputs": [
    {
     "ename": "SyntaxError",
     "evalue": "invalid syntax (Temp/ipykernel_7300/2326454071.py, line 1)",
     "output_type": "error",
     "traceback": [
      "\u001b[1;36m  File \u001b[1;32m\"C:\\Users\\WIN10~1\\AppData\\Local\\Temp/ipykernel_7300/2326454071.py\"\u001b[1;36m, line \u001b[1;32m1\u001b[0m\n\u001b[1;33m    print (\"He is such a \"GENIUS\"\"\")\u001b[0m\n\u001b[1;37m                          ^\u001b[0m\n\u001b[1;31mSyntaxError\u001b[0m\u001b[1;31m:\u001b[0m invalid syntax\n"
     ]
    }
   ],
   "source": [
    "print (\"He is such a \"GENIUS\"\"\")"
   ]
  },
  {
   "cell_type": "code",
   "execution_count": 7,
   "id": "1cdc7486",
   "metadata": {},
   "outputs": [
    {
     "name": "stdout",
     "output_type": "stream",
     "text": [
      "Hello! Nice to meet you.\n"
     ]
    }
   ],
   "source": [
    "print ('Hello! Nice to meet you.')"
   ]
  },
  {
   "cell_type": "code",
   "execution_count": 8,
   "id": "ccc62681",
   "metadata": {},
   "outputs": [
    {
     "name": "stdout",
     "output_type": "stream",
     "text": [
      "Hey! The moon is beautiful, isn't it?\n"
     ]
    }
   ],
   "source": [
    "print (\"Hey! The moon is beautiful, isn't it?\")"
   ]
  },
  {
   "cell_type": "code",
   "execution_count": 9,
   "id": "a92f77e4",
   "metadata": {},
   "outputs": [
    {
     "name": "stdout",
     "output_type": "stream",
     "text": [
      "42\n",
      "100000\n",
      "4200000\n"
     ]
    }
   ],
   "source": [
    "mahasiswa = 42\n",
    "uang_di_dompet = 100000\n",
    "print (mahasiswa)\n",
    "print (uang_di_dompet)\n",
    "print (mahasiswa*uang_di_dompet)"
   ]
  },
  {
   "cell_type": "code",
   "execution_count": 10,
   "id": "ff51fd7c",
   "metadata": {},
   "outputs": [
    {
     "name": "stdout",
     "output_type": "stream",
     "text": [
      "42\n",
      "50000\n",
      "2100000\n"
     ]
    }
   ],
   "source": [
    "mahasiswa_11 = 42\n",
    "uang_di_atm = 50000\n",
    "print (mahasiswa_11)\n",
    "print (uang_di_atm)\n",
    "print (mahasiswa_11*uang_di_atm)"
   ]
  },
  {
   "cell_type": "code",
   "execution_count": 11,
   "id": "fe41e5f8",
   "metadata": {},
   "outputs": [
    {
     "name": "stdout",
     "output_type": "stream",
     "text": [
      "Angga Saputra \n"
     ]
    }
   ],
   "source": [
    "nama_depan = 'Angga'\n",
    "nama_tengah = ' '\n",
    "nama_belakang = 'Saputra '\n",
    "print (nama_depan + nama_tengah + nama_belakang)"
   ]
  },
  {
   "cell_type": "code",
   "execution_count": 12,
   "id": "896d620c",
   "metadata": {},
   "outputs": [
    {
     "name": "stdout",
     "output_type": "stream",
     "text": [
      "Stefanny Marsauli Winowod \n"
     ]
    }
   ],
   "source": [
    "nama_depan = 'Stefanny '\n",
    "nama_tengah = 'Marsauli '\n",
    "nama_belakang = 'Winowod '\n",
    "print (nama_depan + nama_tengah + nama_belakang)"
   ]
  },
  {
   "cell_type": "code",
   "execution_count": 13,
   "id": "b120762d",
   "metadata": {},
   "outputs": [
    {
     "name": "stdout",
     "output_type": "stream",
     "text": [
      "Tepy 19 tahun, suka mendengarkan musik, nggak suka cicak, kecoa, dan teman-temannya\n"
     ]
    }
   ],
   "source": [
    "nama_panggilan = \"Tepy \"\n",
    "umur = \"19 tahun, \"\n",
    "hobi = \"suka mendengarkan musik, \"\n",
    "hal_yang_tidak_disukai = \"nggak suka cicak, kecoa, dan teman-temannya\"\n",
    "print (nama_panggilan + umur + hobi + hal_yang_tidak_disukai)"
   ]
  },
  {
   "cell_type": "code",
   "execution_count": 14,
   "id": "d4c6743a",
   "metadata": {},
   "outputs": [
    {
     "name": "stdout",
     "output_type": "stream",
     "text": [
      "Stefanny 2108541011 Matematika Udayana 2021\n"
     ]
    }
   ],
   "source": [
    "nama = 'Stefanny '\n",
    "nim = '2108541011 '\n",
    "prodi = 'Matematika '\n",
    "universitas = 'Udayana'\n",
    "angkatan = ' 2021'\n",
    "print (nama + nim + prodi + universitas + angkatan)\n"
   ]
  },
  {
   "cell_type": "code",
   "execution_count": 15,
   "id": "1cd46f38",
   "metadata": {},
   "outputs": [],
   "source": [
    "# 5.2 input"
   ]
  },
  {
   "cell_type": "code",
   "execution_count": 16,
   "id": "aa54eb55",
   "metadata": {},
   "outputs": [
    {
     "name": "stdout",
     "output_type": "stream",
     "text": [
      "siapa nama kamu? Stefanny\n",
      "kuliah di mana nih, Stefanny? Unud\n",
      "wahhh, jurusan apa tuh? Matematika\n",
      "Halo Stefanny kuliah di Unud ya? Jurusan Matematika lagi. Keren banget dehhh!!! Semangat ya, kamu keren!\n"
     ]
    }
   ],
   "source": [
    "nama = input ('siapa nama kamu? ')\n",
    "universitas = input ('kuliah di mana nih, ' + nama + '? ')\n",
    "jurusan = input ('wahhh, jurusan apa tuh? ')\n",
    "print ('Halo '+ nama + ' kuliah di ' + universitas + ' ya? ' + 'Jurusan ' + jurusan + ' lagi. Keren banget dehhh!!! Semangat ya, kamu keren!')\n"
   ]
  },
  {
   "cell_type": "code",
   "execution_count": 17,
   "id": "03bd8476",
   "metadata": {},
   "outputs": [
    {
     "name": "stdout",
     "output_type": "stream",
     "text": [
      "nama barang? Laptop\n",
      "berapa stok yang ada? 11\n",
      "Laptop ada 11, siap dijual.\n"
     ]
    }
   ],
   "source": [
    "barang = input ('nama barang? ')\n",
    "stok_barang = input ('berapa stok yang ada? ')\n",
    "print (barang + ' ada ' + stok_barang + ', siap dijual.')"
   ]
  },
  {
   "cell_type": "code",
   "execution_count": 18,
   "id": "e43ffa4a",
   "metadata": {},
   "outputs": [
    {
     "name": "stdout",
     "output_type": "stream",
     "text": [
      "Hallo? haii\n",
      "lagi apa nih? ngetik aja nih\n",
      "ooo gituu. jangan lupa minum, ya!\n"
     ]
    }
   ],
   "source": [
    "sapaan = input ('Hallo? ')\n",
    "kegiatan = input ('lagi apa nih? ')\n",
    "print ('ooo gituu. jangan lupa minum, ya!')"
   ]
  },
  {
   "cell_type": "code",
   "execution_count": 19,
   "id": "b3d242c2",
   "metadata": {},
   "outputs": [
    {
     "name": "stdout",
     "output_type": "stream",
     "text": [
      "Kamu ada di kelas apa? A\n",
      "Ada berapa jumlah mahasiswanya dikurang kamu? 41\n",
      "Jangan lupa kasih tau 41 mahasiswa lainnya, kelas A besok UTS strukbar.\n"
     ]
    }
   ],
   "source": [
    "kelas = input ('Kamu ada di kelas apa? ')\n",
    "jumlah_mahasiswa = input ('Ada berapa jumlah mahasiswanya dikurang kamu? ')\n",
    "print ('Jangan lupa kasih tau ' + jumlah_mahasiswa + ' mahasiswa lainnya, kelas ' + kelas + ' besok UTS strukbar.')"
   ]
  },
  {
   "cell_type": "code",
   "execution_count": 20,
   "id": "97f688a6",
   "metadata": {},
   "outputs": [],
   "source": [
    "# 5.3"
   ]
  },
  {
   "cell_type": "code",
   "execution_count": 21,
   "id": "933baa3d",
   "metadata": {},
   "outputs": [
    {
     "name": "stdout",
     "output_type": "stream",
     "text": [
      "Berapa jumlah uang di dompet anda? 12000\n",
      "Berapa jumlah uang anda di bank? 20000\n",
      "Total uang anda adalah Rp 1200020000\n"
     ]
    }
   ],
   "source": [
    "uang_di_dompet11 = input (\"Berapa jumlah uang di dompet anda? \")\n",
    "uang_di_bank11 = input (\"Berapa jumlah uang anda di bank? \")\n",
    "print (\"Total uang anda adalah Rp \" + uang_di_dompet11 + uang_di_bank11)"
   ]
  },
  {
   "cell_type": "code",
   "execution_count": 22,
   "id": "b8450351",
   "metadata": {},
   "outputs": [
    {
     "name": "stdout",
     "output_type": "stream",
     "text": [
      "Berapa jumlah uang di dompet anda? Rp12000\n",
      "Berapa jumlah uang anda di bank? Rp20000\n",
      "Total uang anda adalah Rp32000\n"
     ]
    }
   ],
   "source": [
    "uang_di_dompet11 = input ('Berapa jumlah uang di dompet anda? ' + 'Rp')\n",
    "uang_di_bank11 = input ('Berapa jumlah uang anda di bank? '+ 'Rp')\n",
    "total_uang = int (uang_di_dompet11) + int (uang_di_bank11)\n",
    "print (\"Total uang anda adalah Rp\"+ str (total_uang))"
   ]
  },
  {
   "cell_type": "code",
   "execution_count": 23,
   "id": "df6811c7",
   "metadata": {},
   "outputs": [
    {
     "name": "stdout",
     "output_type": "stream",
     "text": [
      "Berapa jumlah mahasiswa kelas A? 42\n",
      "Berapa jumlah mahasiswa kelas B? 42\n",
      "Jumlah mahasiswa dari kelas A dan B yaitu 84 mahasiswa\n"
     ]
    }
   ],
   "source": [
    "kelas_a = input (\"Berapa jumlah mahasiswa kelas A? \")\n",
    "kelas_b = input (\"Berapa jumlah mahasiswa kelas B? \")\n",
    "jumlah_mahasiswa = int (kelas_a) + int (kelas_b)\n",
    "print (\"Jumlah mahasiswa dari kelas A dan B yaitu \"+ str (jumlah_mahasiswa)+ ' mahasiswa')"
   ]
  },
  {
   "cell_type": "code",
   "execution_count": 24,
   "id": "43cfafeb",
   "metadata": {},
   "outputs": [
    {
     "name": "stdout",
     "output_type": "stream",
     "text": [
      "Berapa bilangan ke 1? 10\n",
      "Berapa bilangan ke 2? 20\n",
      "Berapa bilangan ke 3? 20\n",
      "Jumlah dari ketiga bilangan tersebut adalah 50\n"
     ]
    }
   ],
   "source": [
    "bilangan_ke_1 = input ('Berapa bilangan ke 1? ')\n",
    "bilangan_ke_2 = input ('Berapa bilangan ke 2? ')\n",
    "bilangan_ke_3 = input ('Berapa bilangan ke 3? ')\n",
    "jumlah_bilangan = int(bilangan_ke_1) + int(bilangan_ke_2) + int (bilangan_ke_3)\n",
    "print (\"Jumlah dari ketiga bilangan tersebut adalah \"+ str(jumlah_bilangan))"
   ]
  },
  {
   "cell_type": "code",
   "execution_count": 25,
   "id": "666d6aad",
   "metadata": {},
   "outputs": [
    {
     "data": {
      "text/plain": [
       "str"
      ]
     },
     "execution_count": 25,
     "metadata": {},
     "output_type": "execute_result"
    }
   ],
   "source": [
    "type (uang_di_dompet11)"
   ]
  },
  {
   "cell_type": "code",
   "execution_count": 26,
   "id": "456e10ae",
   "metadata": {},
   "outputs": [
    {
     "data": {
      "text/plain": [
       "int"
      ]
     },
     "execution_count": 26,
     "metadata": {},
     "output_type": "execute_result"
    }
   ],
   "source": [
    "type (total_uang)"
   ]
  },
  {
   "cell_type": "code",
   "execution_count": 27,
   "id": "f8279d79",
   "metadata": {},
   "outputs": [
    {
     "data": {
      "text/plain": [
       "str"
      ]
     },
     "execution_count": 27,
     "metadata": {},
     "output_type": "execute_result"
    }
   ],
   "source": [
    "type (uang_di_bank11)"
   ]
  },
  {
   "cell_type": "code",
   "execution_count": 28,
   "id": "9aa6be22",
   "metadata": {},
   "outputs": [
    {
     "name": "stdout",
     "output_type": "stream",
     "text": [
      "Masukkan bilangan pertama: 15\n",
      "Masukkan bilangan kedua: 12\n",
      "Jumlah kedua bilangan adalah 27.0\n"
     ]
    }
   ],
   "source": [
    "bilangan_pertama = input (\"Masukkan bilangan pertama: \")\n",
    "bilangan_kedua = input (\"Masukkan bilangan kedua: \")\n",
    "jumlah = float (bilangan_pertama) + float (bilangan_kedua)\n",
    "print (\"Jumlah kedua bilangan adalah \" + str(jumlah))"
   ]
  },
  {
   "cell_type": "code",
   "execution_count": 29,
   "id": "08465a72",
   "metadata": {},
   "outputs": [],
   "source": [
    "# 5.4 Formatted String"
   ]
  },
  {
   "cell_type": "code",
   "execution_count": 30,
   "id": "aa30555b",
   "metadata": {},
   "outputs": [
    {
     "name": "stdout",
     "output_type": "stream",
     "text": [
      "Vladimir adalah seorang guru di SD Pertiwi.\n"
     ]
    }
   ],
   "source": [
    "nama = \"Vladimir\"\n",
    "pekerjaan = \"guru\"\n",
    "institusi = \"SD Pertiwi\"\n",
    "print (nama + ' adalah seorang '+ pekerjaan + ' di ' + institusi + '.')"
   ]
  },
  {
   "cell_type": "code",
   "execution_count": 31,
   "id": "7df4f90a",
   "metadata": {},
   "outputs": [
    {
     "name": "stdout",
     "output_type": "stream",
     "text": [
      "Stefanny adalah seorang mahasiswa di Universitas Udayana.\n"
     ]
    }
   ],
   "source": [
    "nama = 'Stefanny'\n",
    "pekerjaan = 'mahasiswa'\n",
    "institusi = 'Universitas Udayana'\n",
    "print (nama + ' adalah seorang ' + pekerjaan + ' di '+ institusi + '.')"
   ]
  },
  {
   "cell_type": "code",
   "execution_count": 32,
   "id": "10fb9ec5",
   "metadata": {},
   "outputs": [
    {
     "name": "stdout",
     "output_type": "stream",
     "text": [
      "Stefanny adalah seorang mahasiswa di Universitas Udayana.\n"
     ]
    }
   ],
   "source": [
    "print (f'{nama} adalah seorang {pekerjaan} di {institusi}.')"
   ]
  },
  {
   "cell_type": "code",
   "execution_count": 33,
   "id": "f2c0835a",
   "metadata": {},
   "outputs": [
    {
     "name": "stdout",
     "output_type": "stream",
     "text": [
      "Stefanny adalah seorang mahasiswa di Universitas Udayana.\n"
     ]
    }
   ],
   "source": [
    "print (f\"{nama} adalah seorang {pekerjaan} di {institusi}.\")"
   ]
  },
  {
   "cell_type": "code",
   "execution_count": 34,
   "id": "e6e54edc",
   "metadata": {},
   "outputs": [],
   "source": [
    "# 5.5 Strings Index"
   ]
  },
  {
   "cell_type": "code",
   "execution_count": 35,
   "id": "b0797405",
   "metadata": {},
   "outputs": [],
   "source": [
    "kelas = 'ini kelas algoritma'"
   ]
  },
  {
   "cell_type": "code",
   "execution_count": 36,
   "id": "d832bb3d",
   "metadata": {},
   "outputs": [
    {
     "name": "stdout",
     "output_type": "stream",
     "text": [
      "ini\n"
     ]
    }
   ],
   "source": [
    "print(kelas [0:3])"
   ]
  },
  {
   "cell_type": "code",
   "execution_count": 37,
   "id": "f261d975",
   "metadata": {},
   "outputs": [
    {
     "name": "stdout",
     "output_type": "stream",
     "text": [
      "ini kelas algoritm\n"
     ]
    }
   ],
   "source": [
    "print(kelas [0:-1])"
   ]
  },
  {
   "cell_type": "code",
   "execution_count": 38,
   "id": "01a175b7",
   "metadata": {},
   "outputs": [
    {
     "name": "stdout",
     "output_type": "stream",
     "text": [
      "elas algoritm\n"
     ]
    }
   ],
   "source": [
    "print (kelas[5:-1])"
   ]
  },
  {
   "cell_type": "code",
   "execution_count": 39,
   "id": "06131dc7",
   "metadata": {},
   "outputs": [
    {
     "name": "stdout",
     "output_type": "stream",
     "text": [
      "ieslrm\n"
     ]
    }
   ],
   "source": [
    "print(kelas [2:-1:3])"
   ]
  },
  {
   "cell_type": "code",
   "execution_count": 40,
   "id": "a7389f94",
   "metadata": {},
   "outputs": [
    {
     "name": "stdout",
     "output_type": "stream",
     "text": [
      "ini kelas algori\n"
     ]
    }
   ],
   "source": [
    "print(kelas [:-3])"
   ]
  },
  {
   "cell_type": "code",
   "execution_count": 41,
   "id": "e4737963",
   "metadata": {},
   "outputs": [
    {
     "name": "stdout",
     "output_type": "stream",
     "text": [
      "ni kelas algoritma\n"
     ]
    }
   ],
   "source": [
    "print(kelas [1:])"
   ]
  },
  {
   "cell_type": "code",
   "execution_count": 42,
   "id": "16c1bcad",
   "metadata": {},
   "outputs": [
    {
     "name": "stdout",
     "output_type": "stream",
     "text": [
      "ini kelas algoritma\n"
     ]
    }
   ],
   "source": [
    "print(kelas [:])"
   ]
  },
  {
   "cell_type": "code",
   "execution_count": 43,
   "id": "0c919551",
   "metadata": {},
   "outputs": [],
   "source": [
    "hari = 'hari sabtu liburan'"
   ]
  },
  {
   "cell_type": "code",
   "execution_count": 44,
   "id": "2edd0621",
   "metadata": {},
   "outputs": [
    {
     "name": "stdout",
     "output_type": "stream",
     "text": [
      "ha\n"
     ]
    }
   ],
   "source": [
    "print(hari [0:2])"
   ]
  },
  {
   "cell_type": "code",
   "execution_count": 45,
   "id": "6cd46395",
   "metadata": {},
   "outputs": [
    {
     "name": "stdout",
     "output_type": "stream",
     "text": [
      "i sabtu liburan\n"
     ]
    }
   ],
   "source": [
    "print(hari [3:])"
   ]
  },
  {
   "cell_type": "code",
   "execution_count": 46,
   "id": "941ce599",
   "metadata": {},
   "outputs": [
    {
     "name": "stdout",
     "output_type": "stream",
     "text": [
      "hari sabtu liburan\n"
     ]
    }
   ],
   "source": [
    "print(hari [:])"
   ]
  },
  {
   "cell_type": "code",
   "execution_count": 47,
   "id": "af8e410a",
   "metadata": {},
   "outputs": [
    {
     "name": "stdout",
     "output_type": "stream",
     "text": [
      "hari sabtu libur\n"
     ]
    }
   ],
   "source": [
    "print(hari [0:-2])"
   ]
  },
  {
   "cell_type": "code",
   "execution_count": 48,
   "id": "ddbb1182",
   "metadata": {},
   "outputs": [
    {
     "name": "stdout",
     "output_type": "stream",
     "text": [
      " sabtu libur\n"
     ]
    }
   ],
   "source": [
    "print(hari [4:-2])"
   ]
  },
  {
   "cell_type": "code",
   "execution_count": 49,
   "id": "3bd6a797",
   "metadata": {},
   "outputs": [],
   "source": [
    "# 5.6 Strings Methods"
   ]
  },
  {
   "cell_type": "code",
   "execution_count": 50,
   "id": "d4071088",
   "metadata": {},
   "outputs": [],
   "source": [
    "judul = 'Bali Surga Dunia'"
   ]
  },
  {
   "cell_type": "code",
   "execution_count": 51,
   "id": "88d63333",
   "metadata": {},
   "outputs": [
    {
     "name": "stdout",
     "output_type": "stream",
     "text": [
      "16\n"
     ]
    }
   ],
   "source": [
    "print (len(judul))"
   ]
  },
  {
   "cell_type": "code",
   "execution_count": 52,
   "id": "b571afb2",
   "metadata": {},
   "outputs": [
    {
     "data": {
      "text/plain": [
       "'BALI SURGA DUNIA'"
      ]
     },
     "execution_count": 52,
     "metadata": {},
     "output_type": "execute_result"
    }
   ],
   "source": [
    "judul.upper()"
   ]
  },
  {
   "cell_type": "code",
   "execution_count": 53,
   "id": "72b3bde2",
   "metadata": {},
   "outputs": [
    {
     "data": {
      "text/plain": [
       "'bali surga dunia'"
      ]
     },
     "execution_count": 53,
     "metadata": {},
     "output_type": "execute_result"
    }
   ],
   "source": [
    "judul.lower()"
   ]
  },
  {
   "cell_type": "code",
   "execution_count": 54,
   "id": "725c84a7",
   "metadata": {},
   "outputs": [
    {
     "data": {
      "text/plain": [
       "5"
      ]
     },
     "execution_count": 54,
     "metadata": {},
     "output_type": "execute_result"
    }
   ],
   "source": [
    "judul.find('Surga')"
   ]
  },
  {
   "cell_type": "code",
   "execution_count": 55,
   "id": "dd716df4",
   "metadata": {},
   "outputs": [
    {
     "data": {
      "text/plain": [
       "-1"
      ]
     },
     "execution_count": 55,
     "metadata": {},
     "output_type": "execute_result"
    }
   ],
   "source": [
    "judul.find('bali')"
   ]
  },
  {
   "cell_type": "code",
   "execution_count": 56,
   "id": "f6993c40",
   "metadata": {},
   "outputs": [
    {
     "data": {
      "text/plain": [
       "'Indonesia Surga Dunia'"
      ]
     },
     "execution_count": 56,
     "metadata": {},
     "output_type": "execute_result"
    }
   ],
   "source": [
    "judul.replace ('Bali', 'Indonesia')"
   ]
  },
  {
   "cell_type": "code",
   "execution_count": 57,
   "id": "0e2e3db7",
   "metadata": {},
   "outputs": [
    {
     "name": "stdout",
     "output_type": "stream",
     "text": [
      "True\n"
     ]
    }
   ],
   "source": [
    "print('Bali' in judul)"
   ]
  },
  {
   "cell_type": "code",
   "execution_count": 58,
   "id": "538c2aba",
   "metadata": {},
   "outputs": [
    {
     "name": "stdout",
     "output_type": "stream",
     "text": [
      "False\n"
     ]
    }
   ],
   "source": [
    "print ('bali' in judul)"
   ]
  },
  {
   "cell_type": "code",
   "execution_count": 59,
   "id": "4680a4e7",
   "metadata": {},
   "outputs": [],
   "source": [
    "judul = 'Matematika Ilmu yang Menyenangkan'"
   ]
  },
  {
   "cell_type": "code",
   "execution_count": 60,
   "id": "1d7a3dd9",
   "metadata": {},
   "outputs": [
    {
     "name": "stdout",
     "output_type": "stream",
     "text": [
      "33\n"
     ]
    }
   ],
   "source": [
    "print (len(judul))"
   ]
  },
  {
   "cell_type": "code",
   "execution_count": 61,
   "id": "eabca6eb",
   "metadata": {},
   "outputs": [
    {
     "data": {
      "text/plain": [
       "'MATEMATIKA ILMU YANG MENYENANGKAN'"
      ]
     },
     "execution_count": 61,
     "metadata": {},
     "output_type": "execute_result"
    }
   ],
   "source": [
    "judul.upper()"
   ]
  },
  {
   "cell_type": "code",
   "execution_count": 62,
   "id": "6e3c3f4d",
   "metadata": {},
   "outputs": [
    {
     "data": {
      "text/plain": [
       "'matematika ilmu yang menyenangkan'"
      ]
     },
     "execution_count": 62,
     "metadata": {},
     "output_type": "execute_result"
    }
   ],
   "source": [
    "judul.lower()"
   ]
  },
  {
   "cell_type": "code",
   "execution_count": 63,
   "id": "98d201ae",
   "metadata": {},
   "outputs": [
    {
     "data": {
      "text/plain": [
       "'Matematika Ilmu yang Muantap'"
      ]
     },
     "execution_count": 63,
     "metadata": {},
     "output_type": "execute_result"
    }
   ],
   "source": [
    "judul.replace('Menyenangkan', 'Muantap')"
   ]
  },
  {
   "cell_type": "code",
   "execution_count": 64,
   "id": "a21324e2",
   "metadata": {},
   "outputs": [],
   "source": [
    "# 5.7 Operasi Matematika di Python"
   ]
  },
  {
   "cell_type": "code",
   "execution_count": 65,
   "id": "f8b041d0",
   "metadata": {},
   "outputs": [
    {
     "name": "stdout",
     "output_type": "stream",
     "text": [
      "5\n",
      "-1\n",
      "6\n",
      "2.3333333333333335\n",
      "2\n",
      "1\n",
      "8\n",
      "4\n",
      "2\n",
      "6\n"
     ]
    }
   ],
   "source": [
    "print (2+3)\n",
    "print (2-3)\n",
    "print (2*3)\n",
    "print (7/3)\n",
    "print (7//3)\n",
    "print (7%3)\n",
    "print (2**3)\n",
    "x = 3\n",
    "x+=1\n",
    "print (x)\n",
    "x-=2\n",
    "print (x)\n",
    "x*=3\n",
    "print(x)"
   ]
  },
  {
   "cell_type": "code",
   "execution_count": 66,
   "id": "18addc4b",
   "metadata": {},
   "outputs": [
    {
     "name": "stdout",
     "output_type": "stream",
     "text": [
      "15\n",
      "5\n",
      "50\n",
      "3.0\n",
      "3\n",
      "0\n",
      "100000\n",
      "8\n",
      "-2\n",
      "-10\n"
     ]
    }
   ],
   "source": [
    "print (10+5)\n",
    "print (10-5)\n",
    "print (10*5)\n",
    "print (12/4)\n",
    "print (12//4)\n",
    "print (12%4)\n",
    "print (10**5)\n",
    "x = 5\n",
    "x+=3\n",
    "print (x)\n",
    "x-=10\n",
    "print (x)\n",
    "x*=5\n",
    "print(x)"
   ]
  },
  {
   "cell_type": "code",
   "execution_count": 67,
   "id": "f798ff93",
   "metadata": {},
   "outputs": [],
   "source": [
    "# 5.8 Operator Perbandingan di Python"
   ]
  },
  {
   "cell_type": "code",
   "execution_count": 68,
   "id": "cebd9d0f",
   "metadata": {},
   "outputs": [
    {
     "name": "stdout",
     "output_type": "stream",
     "text": [
      "True\n",
      "True\n",
      "True\n",
      "True\n",
      "True\n"
     ]
    }
   ],
   "source": [
    "x =9>7\n",
    "print (x)\n",
    "x = 7<9\n",
    "print (x)\n",
    "x = 9 >=7\n",
    "print (x)\n",
    "x = 7 <=9\n",
    "x = 9 == 9\n",
    "print (x)\n",
    "x = 9 !=10\n",
    "print (x)"
   ]
  },
  {
   "cell_type": "code",
   "execution_count": 69,
   "id": "299014d3",
   "metadata": {},
   "outputs": [
    {
     "name": "stdout",
     "output_type": "stream",
     "text": [
      "False\n",
      "False\n",
      "False\n",
      "False\n",
      "False\n"
     ]
    }
   ],
   "source": [
    "x = 7>9\n",
    "print (x)\n",
    "x = 9<7\n",
    "print (x)\n",
    "x = 7 >=9\n",
    "print (x)\n",
    "x = 9 <=7\n",
    "x = 9 == 10\n",
    "print (x)\n",
    "x = 9 !=9\n",
    "print (x)"
   ]
  },
  {
   "cell_type": "code",
   "execution_count": 70,
   "id": "8f2b4d3c",
   "metadata": {},
   "outputs": [],
   "source": [
    "# 5.9 Operator Logika di Python"
   ]
  },
  {
   "cell_type": "code",
   "execution_count": 71,
   "id": "5d4786a7",
   "metadata": {},
   "outputs": [
    {
     "name": "stdout",
     "output_type": "stream",
     "text": [
      "True\n"
     ]
    }
   ],
   "source": [
    "buah_manggis11 = 10\n",
    "buah_mangga11 = 15\n",
    "print (buah_manggis11 > 8 and buah_mangga11 < 20)"
   ]
  },
  {
   "cell_type": "code",
   "execution_count": 72,
   "id": "18bca354",
   "metadata": {},
   "outputs": [
    {
     "name": "stdout",
     "output_type": "stream",
     "text": [
      "True\n"
     ]
    }
   ],
   "source": [
    "print (buah_manggis11 < 8 or buah_mangga11 < 20)"
   ]
  },
  {
   "cell_type": "code",
   "execution_count": 73,
   "id": "1afbe679",
   "metadata": {},
   "outputs": [
    {
     "name": "stdout",
     "output_type": "stream",
     "text": [
      "False\n"
     ]
    }
   ],
   "source": [
    "print (buah_manggis11 < 8 or buah_mangga11 > 20)"
   ]
  },
  {
   "cell_type": "code",
   "execution_count": 74,
   "id": "438847d0",
   "metadata": {},
   "outputs": [
    {
     "name": "stdout",
     "output_type": "stream",
     "text": [
      "True\n"
     ]
    }
   ],
   "source": [
    "print (not (buah_manggis11 < 8 or buah_mangga11 > 20))"
   ]
  },
  {
   "cell_type": "code",
   "execution_count": 75,
   "id": "f0ea491d",
   "metadata": {},
   "outputs": [
    {
     "name": "stdout",
     "output_type": "stream",
     "text": [
      "True\n"
     ]
    }
   ],
   "source": [
    "sepatu = 33\n",
    "sendal = 12\n",
    "print (sepatu > 23 or sendal < 5)"
   ]
  },
  {
   "cell_type": "code",
   "execution_count": 76,
   "id": "3c9795e2",
   "metadata": {},
   "outputs": [
    {
     "name": "stdout",
     "output_type": "stream",
     "text": [
      "True\n"
     ]
    }
   ],
   "source": [
    "print (sepatu < 35 or sendal < 5)"
   ]
  },
  {
   "cell_type": "code",
   "execution_count": 77,
   "id": "bfe9f8b4",
   "metadata": {},
   "outputs": [
    {
     "name": "stdout",
     "output_type": "stream",
     "text": [
      "False\n"
     ]
    }
   ],
   "source": [
    "print (sepatu < 23 or sendal > 13)"
   ]
  },
  {
   "cell_type": "code",
   "execution_count": 78,
   "id": "da37c557",
   "metadata": {},
   "outputs": [
    {
     "name": "stdout",
     "output_type": "stream",
     "text": [
      "True\n"
     ]
    }
   ],
   "source": [
    "print (not (sepatu < 23 or sendal > 13))"
   ]
  },
  {
   "cell_type": "code",
   "execution_count": 79,
   "id": "f5be03f4",
   "metadata": {},
   "outputs": [],
   "source": [
    "# 5.10 Operator if di Python"
   ]
  },
  {
   "cell_type": "code",
   "execution_count": 80,
   "id": "a899013b",
   "metadata": {},
   "outputs": [
    {
     "name": "stdout",
     "output_type": "stream",
     "text": [
      "Nilai anda adalah 99\n",
      "Anda mendapatkan nilai A\n",
      "Bagus sekali, selamat!\n"
     ]
    }
   ],
   "source": [
    "nilai = float (input(\"Nilai anda adalah \")) \n",
    "if nilai >= 80:\n",
    "    print (\"Anda mendapatkan nilai A\")\n",
    "    print (\"Bagus sekali, selamat!\")\n",
    "if nilai < 80 and nilai >= 70:\n",
    "    print (\"Anda mendapatkan nilai B\")\n",
    "    print (\"Tingkatkan prestasimu!\")\n",
    "if nilai >= 60 and nilai < 70:\n",
    "    print (\"Anda mendapatkan nilai C\")\n",
    "    print (\"Lain kali musti lebih baik\")\n",
    "if nilai >= 50 and nilai < 60:\n",
    "    print (\"Anda mendapatkan nilai D\")\n",
    "    print (\"Ulang lagi tahun depan\")\n",
    "if nilai < 50:\n",
    "    print (\"Anda mendapatkan nilai E\")\n",
    "    print (\"Sampai jumpa tahun depan\")"
   ]
  },
  {
   "cell_type": "code",
   "execution_count": 81,
   "id": "39ba9e77",
   "metadata": {},
   "outputs": [
    {
     "name": "stdout",
     "output_type": "stream",
     "text": [
      "Nilai anda adalah 33\n",
      "Anda mendapatkan nilai E\n",
      "Sampai jumpa tahun depan\n"
     ]
    }
   ],
   "source": [
    "nilai = float (input(\"Nilai anda adalah \")) \n",
    "if nilai >= 80:\n",
    "    print (\"Anda mendapatkan nilai A\")\n",
    "    print (\"Bagus sekali, selamat!\")\n",
    "elif nilai >=70:\n",
    "    print (\"Anda mendapatkan nilai B\")\n",
    "    print (\"Tingkatkan prestasimu!\")\n",
    "elif nilai >=60:\n",
    "    print (\"Anda mendapatkan nilai C\")\n",
    "    print (\"Lain kali musti lebih baik\")\n",
    "elif nilai >=50:\n",
    "    print (\"Anda mendapatkan nilai D\")\n",
    "    print (\"Ulang lagi tahun depan\")\n",
    "else:\n",
    "    print (\"Anda mendapatkan nilai E\")\n",
    "    print (\"Sampai jumpa tahun depan\")"
   ]
  },
  {
   "cell_type": "code",
   "execution_count": 82,
   "id": "7c81fc1c",
   "metadata": {},
   "outputs": [
    {
     "name": "stdout",
     "output_type": "stream",
     "text": [
      "Berapakah tinggi anda? 159\n",
      "Tinggi dalam cm atau inci? cm\n",
      "Tinggi anda adalah 62.598459000000005 inci\n"
     ]
    }
   ],
   "source": [
    "tinggi = float (input (\"Berapakah tinggi anda? \"))\n",
    "cm_atau_inci = input (\"Tinggi dalam cm atau inci? \")\n",
    "\n",
    "if cm_atau_inci.upper()== 'CM':\n",
    "    tinggi = tinggi*0.393701\n",
    "    print ('Tinggi anda adalah ' + str(tinggi) + \" inci\")\n",
    "elif cm_atau.upper()== 'INCI':\n",
    "    tinggi = tinggi*0.393701\n",
    "    print (f\"Tinggi anda adalah {tinggi} cm\")"
   ]
  },
  {
   "cell_type": "code",
   "execution_count": 83,
   "id": "6325fee7",
   "metadata": {},
   "outputs": [],
   "source": [
    "# 5.11 While loop"
   ]
  },
  {
   "cell_type": "code",
   "execution_count": 84,
   "id": "fe560a88",
   "metadata": {},
   "outputs": [
    {
     "name": "stdout",
     "output_type": "stream",
     "text": [
      "Angka 0 masih di bawah 5\n",
      "Angka 1 masih di bawah 5\n",
      "Angka 2 masih di bawah 5\n",
      "Angka 3 masih di bawah 5\n",
      "Angka 4 masih di bawah 5\n"
     ]
    }
   ],
   "source": [
    "a = 0\n",
    "while a < 5:\n",
    "    print (\"Angka \" + str (a)+ \" masih di bawah 5\")\n",
    "    a += 1"
   ]
  },
  {
   "cell_type": "code",
   "execution_count": 85,
   "id": "0bad6baa",
   "metadata": {},
   "outputs": [
    {
     "name": "stdout",
     "output_type": "stream",
     "text": [
      "\n",
      "*\n",
      "**\n",
      "***\n",
      "****\n"
     ]
    }
   ],
   "source": [
    "a = 0\n",
    "while a < 5:\n",
    "    print (a * '*')\n",
    "    a += 1"
   ]
  },
  {
   "cell_type": "code",
   "execution_count": 86,
   "id": "79df9502",
   "metadata": {},
   "outputs": [
    {
     "name": "stdout",
     "output_type": "stream",
     "text": [
      "Angka 0 masih di bawah 11\n",
      "Angka 1 masih di bawah 11\n",
      "Angka 2 masih di bawah 11\n",
      "Angka 3 masih di bawah 11\n",
      "Angka 4 masih di bawah 11\n",
      "Angka 5 masih di bawah 11\n",
      "Angka 6 masih di bawah 11\n",
      "Angka 7 masih di bawah 11\n",
      "Angka 8 masih di bawah 11\n",
      "Angka 9 masih di bawah 11\n",
      "Angka 10 masih di bawah 11\n"
     ]
    }
   ],
   "source": [
    "a = 0\n",
    "while a < 11:\n",
    "    print (\"Angka \" + str (a)+ \" masih di bawah 11\")\n",
    "    a += 1"
   ]
  },
  {
   "cell_type": "code",
   "execution_count": 87,
   "id": "470eb167",
   "metadata": {},
   "outputs": [
    {
     "name": "stdout",
     "output_type": "stream",
     "text": [
      "\n",
      "**\n",
      "****\n",
      "******\n",
      "********\n",
      "**********\n"
     ]
    }
   ],
   "source": [
    "a = 0\n",
    "while a <11:\n",
    "    print (a * '*')\n",
    "    a += 2"
   ]
  }
 ],
 "metadata": {
  "kernelspec": {
   "display_name": "Python 3 (ipykernel)",
   "language": "python",
   "name": "python3"
  },
  "language_info": {
   "codemirror_mode": {
    "name": "ipython",
    "version": 3
   },
   "file_extension": ".py",
   "mimetype": "text/x-python",
   "name": "python",
   "nbconvert_exporter": "python",
   "pygments_lexer": "ipython3",
   "version": "3.9.7"
  }
 },
 "nbformat": 4,
 "nbformat_minor": 5
}
